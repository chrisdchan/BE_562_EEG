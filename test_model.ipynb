{
 "cells": [
  {
   "cell_type": "markdown",
   "metadata": {},
   "source": [
    "## This scripts tests the accuarcy of the models\n",
    "\n",
    "#### Imort dependencies & load test data into memory:"
   ]
  },
  {
   "cell_type": "code",
   "execution_count": null,
   "metadata": {},
   "outputs": [],
   "source": [
    "import mat73\n",
    "import numpy as np\n",
    "from naive_bayes import NaiveBayes\n",
    "from TAN_model import Model\n",
    "from probabilities import pClass"
   ]
  },
  {
   "cell_type": "code",
   "execution_count": null,
   "metadata": {},
   "outputs": [],
   "source": [
    "# WARNING: this takes about 30s\n",
    "test_data = mat73.loadmat('preprocessed_data/all_subjects/test.mat')"
   ]
  },
  {
   "cell_type": "code",
   "execution_count": null,
   "metadata": {},
   "outputs": [],
   "source": [
    "# WARNING: this takes about 3m 30s\n",
    "train_data = mat73.loadmat('preprocessed_data/all_subjects/train.mat')"
   ]
  },
  {
   "cell_type": "code",
   "execution_count": null,
   "metadata": {},
   "outputs": [],
   "source": [
    "# For testing the accuracy when only one subject is used \n",
    "test_data_one_sample = mat73.loadmat('preprocessed_data/one_subject/test.mat')\n",
    "train_data_one_sample = mat73.loadmat('preprocessed_data/one_subject/train.mat')"
   ]
  },
  {
   "cell_type": "markdown",
   "metadata": {},
   "source": [
    "#### Test accuracy for predicting the \"visible\" class using TAN"
   ]
  },
  {
   "cell_type": "code",
   "execution_count": null,
   "metadata": {},
   "outputs": [],
   "source": [
    "# Load parameters\n",
    "CLASS = 'visible'\n",
    "cov = np.load(('distributions/' + CLASS + '/cov.npy'))\n",
    "mu_bar = np.load(('distributions/' + CLASS + '/mu_bar.npy'))\n",
    "single_normal = np.load(('distributions/' + CLASS + '/single_normal.npy'))\n",
    "parents = np.load(('distributions/' + CLASS + '/parents.npy'))\n",
    "parents = parents.astype(int)"
   ]
  },
  {
   "cell_type": "code",
   "execution_count": null,
   "metadata": {},
   "outputs": [],
   "source": [
    "# Prepare the test data\n",
    "test_data_dict = test_data['test']\n",
    "test_X = test_data_dict['data']\n",
    "test_X = np.array(test_X)\n",
    "test_y = test_data_dict[CLASS]\n",
    "test_y = np.array(test_y)\n",
    "\n",
    "train_data_dict = train_data['train']\n",
    "train_y = train_data_dict[CLASS]\n",
    "\n",
    "# Calculate Priors\n",
    "prior_1 = np.sum(train_y) / len(train_y)\n",
    "prior_0 = 1 - prior_1\n",
    "priors_state = [prior_0, prior_1]\n",
    "class_list = np.unique(test_y).astype(int)"
   ]
  },
  {
   "cell_type": "code",
   "execution_count": null,
   "metadata": {},
   "outputs": [],
   "source": [
    "# Run the model\n",
    "model = Model(single_normal, mu_bar, cov, parents, priors_state)\n",
    "model.run_test(test_X, test_y)"
   ]
  },
  {
   "cell_type": "markdown",
   "metadata": {},
   "source": [
    "#### Test accuracy for predicting the \"visible\" class using Naive Bayes"
   ]
  },
  {
   "cell_type": "code",
   "execution_count": null,
   "metadata": {},
   "outputs": [],
   "source": [
    "# Run the model\n",
    "nb = NaiveBayes(single_normal, priors_state)\n",
    "nb.test(test_X, test_y)"
   ]
  },
  {
   "cell_type": "markdown",
   "metadata": {},
   "source": [
    "#### Test accuracy for predicting the \"visible\" class using an intuitive MST"
   ]
  },
  {
   "cell_type": "code",
   "execution_count": null,
   "metadata": {},
   "outputs": [],
   "source": [
    "# Load parameters\n",
    "root = 'distributions/' + CLASS + '/intuitive/'\n",
    "cov_state_intuit = np.load((root + 'cov.npy'))\n",
    "mu_bar_state_intuit = np.load((root + 'mu_bar.npy'))\n",
    "single_normal_state_intuit = np.load((root + 'single_normal.npy'))\n",
    "parents_intuit = np.arange(-1, 299)"
   ]
  },
  {
   "cell_type": "code",
   "execution_count": null,
   "metadata": {},
   "outputs": [],
   "source": [
    "# Prepare test data\n",
    "test_data_dict = test_data['test']\n",
    "test_X = test_data_dict['data']\n",
    "test_X = np.array(test_X)\n",
    "test_y_vis = test_data_dict['visible']\n",
    "test_y_vis = np.array(test_y_vis)\n",
    "\n",
    "train_data_dict = train_data['train']\n",
    "train_y_vis = train_data_dict['visible']\n",
    "prior_1 = np.sum(train_y_vis) / len(train_y_vis)\n",
    "prior_0 = 1 - prior_1\n",
    "priors_state = [prior_0, prior_1]"
   ]
  },
  {
   "cell_type": "code",
   "execution_count": null,
   "metadata": {},
   "outputs": [],
   "source": [
    "# Run model\n",
    "model = Model(single_normal_state_intuit, mu_bar_state_intuit, cov_state_intuit, parents_intuit, priors_state)\n",
    "model.run_test(test_X, test_y)"
   ]
  },
  {
   "cell_type": "markdown",
   "metadata": {},
   "source": [
    "#### Test accuracy for predicting the \"position\" class using TAN"
   ]
  },
  {
   "cell_type": "code",
   "execution_count": null,
   "metadata": {},
   "outputs": [],
   "source": [
    "# Load parameters\n",
    "CLASS = 'position'\n",
    "root = 'distributions/' + CLASS + '/'\n",
    "cov = np.load((root + 'cov.npy'))\n",
    "mu_bar = np.load((root + 'mu_bar.npy'))\n",
    "single_normal = np.load((root + 'single_normal.npy'))\n",
    "parents = np.load((root + 'parents.npy'))\n",
    "parents = parents.astype(int)"
   ]
  },
  {
   "cell_type": "code",
   "execution_count": null,
   "metadata": {},
   "outputs": [],
   "source": [
    "# Prepare the test data\n",
    "test_data_dict = test_data['test']\n",
    "test_X = test_data_dict['data']\n",
    "test_X = np.array(test_X)\n",
    "test_y = test_data_dict[CLASS]\n",
    "test_y = np.array(test_y)\n",
    "\n",
    "train_data_dict = train_data['train']\n",
    "train_y = train_data_dict[CLASS]\n",
    "\n",
    "# Calculate Priors\n",
    "class_list = np.unique(test_y).astype(int)\n",
    "priors_state = np.zeros((len(class_list),1))\n",
    "for i in class_list:\n",
    "    priors_state[i-1] = pClass(train_y, i)\n"
   ]
  },
  {
   "cell_type": "code",
   "execution_count": null,
   "metadata": {},
   "outputs": [],
   "source": [
    "# Run the model\n",
    "model = Model(single_normal, mu_bar, cov, parents, priors_state, class_list)\n",
    "model.run_test(test_X, test_y)"
   ]
  },
  {
   "cell_type": "markdown",
   "metadata": {},
   "source": [
    "#### Test accuracy for predicting the \"position\" class using Naive Bayes"
   ]
  },
  {
   "cell_type": "code",
   "execution_count": null,
   "metadata": {},
   "outputs": [],
   "source": [
    "# Run the model\n",
    "nb = NaiveBayes(single_normal, priors_state)\n",
    "nb.test(test_X, test_y)"
   ]
  },
  {
   "cell_type": "markdown",
   "metadata": {},
   "source": [
    "#### Test accuracy for predicting the \"position\" class using intuitive MST"
   ]
  },
  {
   "cell_type": "code",
   "execution_count": null,
   "metadata": {},
   "outputs": [],
   "source": [
    "# Load parameters\n",
    "CLASS = 'position'\n",
    "root = 'distributions/' + CLASS + '/intuitive/'\n",
    "cov = np.load((root + 'cov.npy'))\n",
    "mu_bar = np.load((root + 'mu_bar.npy'))\n",
    "single_normal = np.load((root + 'single_normal.npy'))\n",
    "parents = np.load((root + 'parents.npy'))\n",
    "parents = parents.astype(int)"
   ]
  },
  {
   "cell_type": "code",
   "execution_count": null,
   "metadata": {},
   "outputs": [],
   "source": [
    "# Prepare the test data\n",
    "test_data_dict = test_data['test']\n",
    "test_X = test_data_dict['data']\n",
    "test_X = np.array(test_X)\n",
    "test_y = test_data_dict[CLASS]\n",
    "test_y = np.array(test_y)\n",
    "\n",
    "train_data_dict = train_data['train']\n",
    "train_y = train_data_dict[CLASS]\n",
    "\n",
    "# Calculate Priors\n",
    "class_list = np.unique(test_y).astype(int)\n",
    "priors_state = np.zeros((len(class_list),1))\n",
    "for i in class_list:\n",
    "    priors_state[i-1] = pClass(train_y, i)\n",
    "\n",
    "# Run the model\n",
    "model = Model(single_normal, mu_bar, cov, parents, priors_state, class_list)\n",
    "model.run_test(test_X, test_y)"
   ]
  }
 ],
 "metadata": {
  "kernelspec": {
   "display_name": "BE562",
   "language": "python",
   "name": "python3"
  },
  "language_info": {
   "codemirror_mode": {
    "name": "ipython",
    "version": 3
   },
   "file_extension": ".py",
   "mimetype": "text/x-python",
   "name": "python",
   "nbconvert_exporter": "python",
   "pygments_lexer": "ipython3",
   "version": "3.8.10"
  }
 },
 "nbformat": 4,
 "nbformat_minor": 2
}
