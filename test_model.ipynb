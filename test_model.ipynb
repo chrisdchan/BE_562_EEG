{
 "cells": [
  {
   "cell_type": "markdown",
   "metadata": {},
   "source": [
    "## This scripts tests the accuarcy of the models\n",
    "\n",
    "#### Imort dependencies & load test data into memory:"
   ]
  },
  {
   "cell_type": "code",
   "execution_count": 1,
   "metadata": {},
   "outputs": [],
   "source": [
    "import mat73\n",
    "import numpy as np\n",
    "import math\n",
    "from scipy.stats import norm, multivariate_normal\n",
    "from naive_bayes import NaiveBayes\n",
    "from TAN_model import Model\n",
    "from probabilities import pClass"
   ]
  },
  {
   "cell_type": "code",
   "execution_count": 2,
   "metadata": {},
   "outputs": [],
   "source": [
    "# WARNING: this takes about 30s\n",
    "test_data = mat73.loadmat('preprocessed_data/all_subjects/test.mat')"
   ]
  },
  {
   "cell_type": "code",
   "execution_count": 3,
   "metadata": {},
   "outputs": [],
   "source": [
    "# WARNING: this takes about 3m 30s\n",
    "train_data = mat73.loadmat('preprocessed_data/all_subjects/train.mat')"
   ]
  },
  {
   "cell_type": "code",
   "execution_count": 4,
   "metadata": {},
   "outputs": [],
   "source": [
    "# For testing the accuracy when only one subject is used \n",
    "test_data_one_sample = mat73.loadmat('preprocessed_data/one_subject/test.mat')\n",
    "train_data_one_sample = mat73.loadmat('preprocessed_data/one_subject/train.mat')"
   ]
  },
  {
   "cell_type": "markdown",
   "metadata": {},
   "source": [
    "#### Test accuracy for predicting the \"visible\" class using TAN"
   ]
  },
  {
   "cell_type": "code",
   "execution_count": 5,
   "metadata": {},
   "outputs": [],
   "source": [
    "# Load parameters\n",
    "CLASS = 'visible'\n",
    "cov = np.load(('distributions/' + CLASS + '/cov.npy'))\n",
    "mu_bar = np.load(('distributions/' + CLASS + '/mu_bar.npy'))\n",
    "single_normal = np.load(('distributions/' + CLASS + '/single_normal.npy'))\n",
    "parents = np.load(('distributions/' + CLASS + '/parents.npy'))\n",
    "parents = parents.astype(int)"
   ]
  },
  {
   "cell_type": "code",
   "execution_count": 6,
   "metadata": {},
   "outputs": [
    {
     "name": "stdout",
     "output_type": "stream",
     "text": [
      "Running Accuracy: 0.54 windowed: 0.54 for 100 samples\n",
      "Running Accuracy: 0.565 windowed: 0.59 for 200 samples\n",
      "Running Accuracy: 0.57 windowed: 0.58 for 300 samples\n",
      "Running Accuracy: 0.5675 windowed: 0.56 for 400 samples\n",
      "Running Accuracy: 0.564 windowed: 0.55 for 500 samples\n",
      "Running Accuracy: 0.5783333333333334 windowed: 0.65 for 600 samples\n",
      "Running Accuracy: 0.5614285714285714 windowed: 0.46 for 700 samples\n",
      "Running Accuracy: 0.56375 windowed: 0.58 for 800 samples\n",
      "Running Accuracy: 0.5644444444444444 windowed: 0.57 for 900 samples\n",
      "Accuracy is 0.571\n"
     ]
    }
   ],
   "source": [
    "# Prepare the test data\n",
    "test_data_dict = test_data['test']\n",
    "test_X = test_data_dict['data']\n",
    "test_X = np.array(test_X)[0:1000]\n",
    "test_y = test_data_dict[CLASS]\n",
    "test_y = np.array(test_y)[0:1000]\n",
    "\n",
    "train_data_dict = train_data['train']\n",
    "train_y = train_data_dict[CLASS]\n",
    "\n",
    "# Calculate Priors\n",
    "prior_1 = np.sum(train_y) / len(train_y)\n",
    "prior_0 = 1 - prior_1\n",
    "priors_state = [prior_0, prior_1]\n",
    "class_list = np.unique(test_y).astype(int)\n",
    "\n",
    "# Run the model\n",
    "model = Model(single_normal, mu_bar, cov, parents, priors_state)\n",
    "model.run_test(test_X, test_y)\n"
   ]
  },
  {
   "cell_type": "code",
   "execution_count": 17,
   "metadata": {},
   "outputs": [],
   "source": [
    "class NaiveBayes2():\n",
    "\n",
    "    def __init__(self, single_normal, num_classes=2, num_dims=300):\n",
    "        self.single_normal = single_normal\n",
    "        self.num_classes = num_classes\n",
    "        self.num_dims = num_dims\n",
    "\n",
    "    def classify(self, x):\n",
    "        x_given_class = np.zeros((self.num_dims,))\n",
    "\n",
    "        for c in range(self.num_classes):\n",
    "            mus = self.single_normal[:, c, 0]\n",
    "            sigmas = self.single_normal[:, c, 1]\n",
    "            node_probs = norm.pdf(x, mus, sigmas)\n",
    "            x_given_class[c] = np.prod(node_probs)\n",
    "\n",
    "        return np.argmax(x_given_class)\n",
    "\n",
    "    def classi(self, x):\n",
    "        node_probs = norm.pdf(\n",
    "            x, \n",
    "            self.single_normal[:, :, 0], \n",
    "            self.single_normal[:, :, 1]\n",
    "        )\n",
    "        x_given_class = np.prod(node_probs, axis=0)\n",
    "        return np.argmax(x_given_class)\n",
    "\n",
    "    def test(self, X, y):\n",
    "        N, _ = X.shape\n",
    "        correct = 0\n",
    "\n",
    "        for i in range(N):\n",
    "            x = X[i]\n",
    "            prediction = self.classify(x)\n",
    "            if prediction == y[i]:\n",
    "                correct += 1\n",
    "\n",
    "            if i % 100 == 0 and i != 0:\n",
    "                print(f'Running Accuracy is {correct / i} for {i} samples')"
   ]
  },
  {
   "cell_type": "markdown",
   "metadata": {},
   "source": [
    "#### Test accuracy for predicting the \"visible\" class using Naive Bayes"
   ]
  },
  {
   "cell_type": "code",
   "execution_count": 18,
   "metadata": {},
   "outputs": [
    {
     "ename": "ValueError",
     "evalue": "maximum supported dimension for an ndarray is 32, found 300",
     "output_type": "error",
     "traceback": [
      "\u001b[1;31m---------------------------------------------------------------------------\u001b[0m",
      "\u001b[1;31mValueError\u001b[0m                                Traceback (most recent call last)",
      "Cell \u001b[1;32mIn[18], line 3\u001b[0m\n\u001b[0;32m      1\u001b[0m \u001b[38;5;66;03m# Run the model\u001b[39;00m\n\u001b[0;32m      2\u001b[0m nb \u001b[38;5;241m=\u001b[39m NaiveBayes2(single_normal)\n\u001b[1;32m----> 3\u001b[0m \u001b[43mnb\u001b[49m\u001b[38;5;241;43m.\u001b[39;49m\u001b[43mtest\u001b[49m\u001b[43m(\u001b[49m\u001b[43mtest_X\u001b[49m\u001b[43m,\u001b[49m\u001b[43m \u001b[49m\u001b[43mtest_y\u001b[49m\u001b[43m)\u001b[49m\n",
      "Cell \u001b[1;32mIn[17], line 34\u001b[0m, in \u001b[0;36mNaiveBayes2.test\u001b[1;34m(self, X, y)\u001b[0m\n\u001b[0;32m     32\u001b[0m \u001b[38;5;28;01mfor\u001b[39;00m i \u001b[38;5;129;01min\u001b[39;00m \u001b[38;5;28mrange\u001b[39m(N):\n\u001b[0;32m     33\u001b[0m     x \u001b[38;5;241m=\u001b[39m X[i]\n\u001b[1;32m---> 34\u001b[0m     prediction \u001b[38;5;241m=\u001b[39m \u001b[38;5;28;43mself\u001b[39;49m\u001b[38;5;241;43m.\u001b[39;49m\u001b[43mclassify\u001b[49m\u001b[43m(\u001b[49m\u001b[43mx\u001b[49m\u001b[43m)\u001b[49m\n\u001b[0;32m     35\u001b[0m     \u001b[38;5;28;01mif\u001b[39;00m prediction \u001b[38;5;241m==\u001b[39m y[i]:\n\u001b[0;32m     36\u001b[0m         correct \u001b[38;5;241m+\u001b[39m\u001b[38;5;241m=\u001b[39m \u001b[38;5;241m1\u001b[39m\n",
      "Cell \u001b[1;32mIn[17], line 9\u001b[0m, in \u001b[0;36mNaiveBayes2.classify\u001b[1;34m(self, x)\u001b[0m\n\u001b[0;32m      8\u001b[0m \u001b[38;5;28;01mdef\u001b[39;00m \u001b[38;5;21mclassify\u001b[39m(\u001b[38;5;28mself\u001b[39m, x):\n\u001b[1;32m----> 9\u001b[0m     x_given_class \u001b[38;5;241m=\u001b[39m \u001b[43mnp\u001b[49m\u001b[38;5;241;43m.\u001b[39;49m\u001b[43mzeros\u001b[49m\u001b[43m(\u001b[49m\u001b[43m(\u001b[49m\u001b[43mx\u001b[49m\u001b[43m)\u001b[49m\u001b[43m)\u001b[49m\n\u001b[0;32m     11\u001b[0m     \u001b[38;5;28;01mfor\u001b[39;00m c \u001b[38;5;129;01min\u001b[39;00m \u001b[38;5;28mrange\u001b[39m(\u001b[38;5;28mself\u001b[39m\u001b[38;5;241m.\u001b[39mnum_classes):\n\u001b[0;32m     12\u001b[0m         mus \u001b[38;5;241m=\u001b[39m \u001b[38;5;28mself\u001b[39m\u001b[38;5;241m.\u001b[39msingle_normal[:, c, \u001b[38;5;241m0\u001b[39m]\n",
      "\u001b[1;31mValueError\u001b[0m: maximum supported dimension for an ndarray is 32, found 300"
     ]
    }
   ],
   "source": [
    "# Run the model\n",
    "nb = NaiveBayes2(single_normal)\n",
    "nb.test(test_X, test_y)"
   ]
  },
  {
   "cell_type": "markdown",
   "metadata": {},
   "source": [
    "#### Test accuracy for predicting the \"visible\" class using an intuitive MST"
   ]
  },
  {
   "cell_type": "code",
   "execution_count": null,
   "metadata": {},
   "outputs": [],
   "source": [
    "# Load parameters\n",
    "root = 'distributions/' + CLASS + '/intuitive/'\n",
    "cov_state_intuit = np.load((root + 'cov.npy'))\n",
    "mu_bar_state_intuit = np.load((root + 'mu_bar.npy'))\n",
    "single_normal_state_intuit = np.load((root + 'single_normal.npy'))\n",
    "parents_intuit = np.arange(-1, 299)"
   ]
  },
  {
   "cell_type": "code",
   "execution_count": null,
   "metadata": {},
   "outputs": [],
   "source": [
    "# Prepare test data\n",
    "test_data_dict = test_data['test']\n",
    "test_X = test_data_dict['data']\n",
    "test_X = np.array(test_X)[0:1000]\n",
    "test_y_vis = test_data_dict['visible']\n",
    "test_y_vis = np.array(test_y_vis)[0:1000]\n",
    "\n",
    "train_data_dict = train_data['train']\n",
    "train_y_vis = train_data_dict['visible']\n",
    "prior_1 = np.sum(train_y_vis) / len(train_y_vis)\n",
    "prior_0 = 1 - prior_1\n",
    "priors_state = [prior_0, prior_1]"
   ]
  },
  {
   "cell_type": "code",
   "execution_count": null,
   "metadata": {},
   "outputs": [],
   "source": [
    "# Run model\n",
    "model = Model(single_normal_state_intuit, mu_bar_state_intuit, cov_state_intuit, parents_intuit, priors_state)\n",
    "model.run_test(test_X, test_y)"
   ]
  },
  {
   "cell_type": "markdown",
   "metadata": {},
   "source": [
    "#### Test accuracy for predicting the \"position\" class using TAN"
   ]
  },
  {
   "cell_type": "code",
   "execution_count": null,
   "metadata": {},
   "outputs": [],
   "source": [
    "# Load parameters\n",
    "CLASS = 'position'\n",
    "root = 'distributions/' + CLASS + '/'\n",
    "cov = np.load((root + 'cov.npy'))\n",
    "mu_bar = np.load((root + 'mu_bar.npy'))\n",
    "single_normal = np.load((root + 'single_normal.npy'))\n",
    "parents = np.load((root + '/parents.npy'))\n",
    "parents = parents.astype(int)"
   ]
  },
  {
   "cell_type": "code",
   "execution_count": null,
   "metadata": {},
   "outputs": [],
   "source": [
    "# Prepare the test data\n",
    "test_data_dict = test_data['test']\n",
    "test_X = test_data_dict['data']\n",
    "test_X = np.array(test_X)[0:1000]\n",
    "test_y = test_data_dict[CLASS]\n",
    "test_y = np.array(test_y)[0:1000]\n",
    "\n",
    "train_data_dict = train_data['train']\n",
    "train_y = train_data_dict[CLASS]\n",
    "\n",
    "# Calculate Priors\n",
    "class_list = np.unique(test_y).astype(int)\n",
    "priors_state = np.zeros((len(class_list),1))\n",
    "for i in class_list:\n",
    "    priors_state[i-1] = pClass(train_y, i)\n",
    "\n",
    "# Run the model\n",
    "model = Model(single_normal, mu_bar, cov, parents, priors_state, class_list)\n",
    "model.run_test(test_X, test_y)"
   ]
  },
  {
   "cell_type": "markdown",
   "metadata": {},
   "source": [
    "#### Test accuracy for predicting the \"position\" class using Naive Bayes"
   ]
  }
 ],
 "metadata": {
  "kernelspec": {
   "display_name": "BE562",
   "language": "python",
   "name": "python3"
  },
  "language_info": {
   "codemirror_mode": {
    "name": "ipython",
    "version": 3
   },
   "file_extension": ".py",
   "mimetype": "text/x-python",
   "name": "python",
   "nbconvert_exporter": "python",
   "pygments_lexer": "ipython3",
   "version": "3.8.10"
  }
 },
 "nbformat": 4,
 "nbformat_minor": 2
}
